{
 "cells": [
  {
   "cell_type": "markdown",
   "metadata": {},
   "source": [
    "# IKEA_Data_Wrangling\n",
    "\n",
    "The goal of this notebook is to collect and prepare IKEA's metrics for its Econometric Model in Canada.\n",
    "\n",
    "But before we getting into the gathering section, we need to load all libraries/packages used along this notebook.\n"
   ]
  },
  {
   "cell_type": "code",
   "execution_count": 1,
   "metadata": {},
   "outputs": [],
   "source": [
    "import pandas as pd\n",
    "import datetime"
   ]
  },
  {
   "cell_type": "code",
   "execution_count": 2,
   "metadata": {},
   "outputs": [
    {
     "data": {
      "text/plain": [
       "FY                    object\n",
       "Year                   int64\n",
       "WeekNumber             int64\n",
       "Date          datetime64[ns]\n",
       "dtype: object"
      ]
     },
     "execution_count": 2,
     "metadata": {},
     "output_type": "execute_result"
    }
   ],
   "source": [
    "store_value = pd.read_excel('652.xlsx')\n",
    "# Load auxiliary dataset\n",
    "# Week Number mapping\n",
    "week_df = pd.read_excel('week_number_for_use_on_scripts.xlsx')\n",
    "#week_df['Date'] = pd.to_datetime(week_df['Date'])\n",
    "week_df['Date'] = pd.to_datetime(week_df['Date'])\n",
    "week_df.dtypes\n"
   ]
  },
  {
   "cell_type": "code",
   "execution_count": 3,
   "metadata": {},
   "outputs": [],
   "source": [
    "store_value = store_value.dropna(axis=0)"
   ]
  },
  {
   "cell_type": "code",
   "execution_count": 4,
   "metadata": {},
   "outputs": [
    {
     "data": {
      "text/plain": [
       "Index(['Store', '2017 january - 2017 december', '2018 january',\n",
       "       '2018 February -2018 August', '2018 September - 2018 December',\n",
       "       '2019 January - 2019 June', '2019 July - 2019 October',\n",
       "       '2019 October - 2019 December'],\n",
       "      dtype='object')"
      ]
     },
     "execution_count": 4,
     "metadata": {},
     "output_type": "execute_result"
    }
   ],
   "source": [
    "store_value.columns"
   ]
  },
  {
   "cell_type": "code",
   "execution_count": 5,
   "metadata": {},
   "outputs": [
    {
     "data": {
      "text/plain": [
       "Store                             object\n",
       "2017 january - 2017 december      object\n",
       "2018 january                      object\n",
       "2018 February -2018 August        object\n",
       "2018 September - 2018 December    object\n",
       "2019 January - 2019 June          object\n",
       "2019 July - 2019 October          object\n",
       "2019 October - 2019 December      object\n",
       "dtype: object"
      ]
     },
     "execution_count": 5,
     "metadata": {},
     "output_type": "execute_result"
    }
   ],
   "source": [
    "store_value.dtypes"
   ]
  },
  {
   "cell_type": "markdown",
   "metadata": {},
   "source": [
    "The dataframe store_value is transposed with following function T"
   ]
  },
  {
   "cell_type": "markdown",
   "metadata": {},
   "source": [
    "# Code"
   ]
  },
  {
   "cell_type": "code",
   "execution_count": 6,
   "metadata": {},
   "outputs": [],
   "source": [
    "store_value = store_value.T.reset_index()\n"
   ]
  },
  {
   "cell_type": "markdown",
   "metadata": {},
   "source": [
    "# Test"
   ]
  },
  {
   "cell_type": "code",
   "execution_count": 7,
   "metadata": {},
   "outputs": [
    {
     "data": {
      "text/html": [
       "<div>\n",
       "<style scoped>\n",
       "    .dataframe tbody tr th:only-of-type {\n",
       "        vertical-align: middle;\n",
       "    }\n",
       "\n",
       "    .dataframe tbody tr th {\n",
       "        vertical-align: top;\n",
       "    }\n",
       "\n",
       "    .dataframe thead th {\n",
       "        text-align: right;\n",
       "    }\n",
       "</style>\n",
       "<table border=\"1\" class=\"dataframe\">\n",
       "  <thead>\n",
       "    <tr style=\"text-align: right;\">\n",
       "      <th></th>\n",
       "      <th>index</th>\n",
       "      <th>1</th>\n",
       "      <th>2</th>\n",
       "      <th>3</th>\n",
       "      <th>4</th>\n",
       "      <th>5</th>\n",
       "      <th>6</th>\n",
       "      <th>7</th>\n",
       "      <th>8</th>\n",
       "      <th>9</th>\n",
       "      <th>10</th>\n",
       "      <th>11</th>\n",
       "      <th>12</th>\n",
       "      <th>13</th>\n",
       "      <th>14</th>\n",
       "    </tr>\n",
       "  </thead>\n",
       "  <tbody>\n",
       "    <tr>\n",
       "      <td>0</td>\n",
       "      <td>Store</td>\n",
       "      <td>003  Richmond</td>\n",
       "      <td>004  Ottawa</td>\n",
       "      <td>039  Montreal</td>\n",
       "      <td>040  Burlington</td>\n",
       "      <td>149  North York</td>\n",
       "      <td>216  Calgary</td>\n",
       "      <td>249  Winnipeg</td>\n",
       "      <td>256  Etobicoke</td>\n",
       "      <td>313  Coquitlam</td>\n",
       "      <td>349  Edmonton</td>\n",
       "      <td>372  Vaughan</td>\n",
       "      <td>414  Boucherville</td>\n",
       "      <td>529  Halifax</td>\n",
       "      <td>559  Quebec City</td>\n",
       "    </tr>\n",
       "    <tr>\n",
       "      <td>1</td>\n",
       "      <td>2017 january - 2017 december</td>\n",
       "      <td>99</td>\n",
       "      <td>99</td>\n",
       "      <td>99</td>\n",
       "      <td>99</td>\n",
       "      <td>99</td>\n",
       "      <td>99</td>\n",
       "      <td>99</td>\n",
       "      <td>99</td>\n",
       "      <td>99</td>\n",
       "      <td>99</td>\n",
       "      <td>99</td>\n",
       "      <td>99</td>\n",
       "      <td>99</td>\n",
       "      <td>99</td>\n",
       "    </tr>\n",
       "    <tr>\n",
       "      <td>2</td>\n",
       "      <td>2018 january</td>\n",
       "      <td>99</td>\n",
       "      <td>99</td>\n",
       "      <td>99</td>\n",
       "      <td>99</td>\n",
       "      <td>99</td>\n",
       "      <td>99</td>\n",
       "      <td>99</td>\n",
       "      <td>99</td>\n",
       "      <td>99</td>\n",
       "      <td>99</td>\n",
       "      <td>99</td>\n",
       "      <td>99</td>\n",
       "      <td>99</td>\n",
       "      <td>99</td>\n",
       "    </tr>\n",
       "    <tr>\n",
       "      <td>3</td>\n",
       "      <td>2018 February -2018 August</td>\n",
       "      <td>99</td>\n",
       "      <td>29</td>\n",
       "      <td>99</td>\n",
       "      <td>99</td>\n",
       "      <td>99</td>\n",
       "      <td>99</td>\n",
       "      <td>99</td>\n",
       "      <td>99</td>\n",
       "      <td>99</td>\n",
       "      <td>99</td>\n",
       "      <td>99</td>\n",
       "      <td>99</td>\n",
       "      <td>99</td>\n",
       "      <td>99</td>\n",
       "    </tr>\n",
       "    <tr>\n",
       "      <td>4</td>\n",
       "      <td>2018 September - 2018 December</td>\n",
       "      <td>99</td>\n",
       "      <td>49</td>\n",
       "      <td>99</td>\n",
       "      <td>99</td>\n",
       "      <td>99</td>\n",
       "      <td>99</td>\n",
       "      <td>99</td>\n",
       "      <td>99</td>\n",
       "      <td>99</td>\n",
       "      <td>99</td>\n",
       "      <td>99</td>\n",
       "      <td>99</td>\n",
       "      <td>99</td>\n",
       "      <td>99</td>\n",
       "    </tr>\n",
       "  </tbody>\n",
       "</table>\n",
       "</div>"
      ],
      "text/plain": [
       "                            index              1            2              3  \\\n",
       "0                           Store  003  Richmond  004  Ottawa  039  Montreal   \n",
       "1    2017 january - 2017 december             99           99             99   \n",
       "2                    2018 january             99           99             99   \n",
       "3      2018 February -2018 August             99           29             99   \n",
       "4  2018 September - 2018 December             99           49             99   \n",
       "\n",
       "                 4                5             6              7  \\\n",
       "0  040  Burlington  149  North York  216  Calgary  249  Winnipeg   \n",
       "1               99               99            99             99   \n",
       "2               99               99            99             99   \n",
       "3               99               99            99             99   \n",
       "4               99               99            99             99   \n",
       "\n",
       "                8               9             10            11  \\\n",
       "0  256  Etobicoke  313  Coquitlam  349  Edmonton  372  Vaughan   \n",
       "1              99              99             99            99   \n",
       "2              99              99             99            99   \n",
       "3              99              99             99            99   \n",
       "4              99              99             99            99   \n",
       "\n",
       "                  12            13                14  \n",
       "0  414  Boucherville  529  Halifax  559  Quebec City  \n",
       "1                 99            99                99  \n",
       "2                 99            99                99  \n",
       "3                 99            99                99  \n",
       "4                 99            99                99  "
      ]
     },
     "execution_count": 7,
     "metadata": {},
     "output_type": "execute_result"
    }
   ],
   "source": [
    "store_value.head(5)"
   ]
  },
  {
   "cell_type": "code",
   "execution_count": 8,
   "metadata": {},
   "outputs": [
    {
     "data": {
      "text/plain": [
       "Index(['index', 1, 2, 3, 4, 5, 6, 7, 8, 9, 10, 11, 12, 13, 14], dtype='object')"
      ]
     },
     "execution_count": 8,
     "metadata": {},
     "output_type": "execute_result"
    }
   ],
   "source": [
    "store_value.columns"
   ]
  },
  {
   "cell_type": "markdown",
   "metadata": {},
   "source": [
    "To change the column names of data frame store_value from index columns to row 0 "
   ]
  },
  {
   "cell_type": "code",
   "execution_count": 9,
   "metadata": {},
   "outputs": [
    {
     "data": {
      "text/plain": [
       "Index(['Store', '003  Richmond', '004  Ottawa', '039  Montreal',\n",
       "       '040  Burlington', '149  North York', '216  Calgary', '249  Winnipeg',\n",
       "       '256  Etobicoke', '313  Coquitlam', '349  Edmonton', '372  Vaughan',\n",
       "       '414  Boucherville', '529  Halifax', '559  Quebec City'],\n",
       "      dtype='object', name=0)"
      ]
     },
     "execution_count": 9,
     "metadata": {},
     "output_type": "execute_result"
    }
   ],
   "source": [
    "store_value.columns = store_value.iloc[0]\n",
    "store_value.columns"
   ]
  },
  {
   "cell_type": "markdown",
   "metadata": {},
   "source": [
    "Now,we want the new data frame from row 1 onwards only."
   ]
  },
  {
   "cell_type": "code",
   "execution_count": 10,
   "metadata": {},
   "outputs": [],
   "source": [
    "df_new = store_value[1:]"
   ]
  },
  {
   "cell_type": "markdown",
   "metadata": {},
   "source": [
    "Renaming the column names from Store to month_range "
   ]
  },
  {
   "cell_type": "code",
   "execution_count": 11,
   "metadata": {},
   "outputs": [
    {
     "name": "stderr",
     "output_type": "stream",
     "text": [
      "C:\\ProgramData\\Anaconda3\\lib\\site-packages\\pandas\\core\\frame.py:4223: SettingWithCopyWarning: \n",
      "A value is trying to be set on a copy of a slice from a DataFrame\n",
      "\n",
      "See the caveats in the documentation: http://pandas.pydata.org/pandas-docs/stable/user_guide/indexing.html#returning-a-view-versus-a-copy\n",
      "  return super().rename(**kwargs)\n"
     ]
    },
    {
     "data": {
      "text/html": [
       "<div>\n",
       "<style scoped>\n",
       "    .dataframe tbody tr th:only-of-type {\n",
       "        vertical-align: middle;\n",
       "    }\n",
       "\n",
       "    .dataframe tbody tr th {\n",
       "        vertical-align: top;\n",
       "    }\n",
       "\n",
       "    .dataframe thead th {\n",
       "        text-align: right;\n",
       "    }\n",
       "</style>\n",
       "<table border=\"1\" class=\"dataframe\">\n",
       "  <thead>\n",
       "    <tr style=\"text-align: right;\">\n",
       "      <th></th>\n",
       "      <th>month_range</th>\n",
       "      <th>003  Richmond</th>\n",
       "      <th>004  Ottawa</th>\n",
       "      <th>039  Montreal</th>\n",
       "      <th>040  Burlington</th>\n",
       "      <th>149  North York</th>\n",
       "      <th>216  Calgary</th>\n",
       "      <th>249  Winnipeg</th>\n",
       "      <th>256  Etobicoke</th>\n",
       "      <th>313  Coquitlam</th>\n",
       "      <th>349  Edmonton</th>\n",
       "      <th>372  Vaughan</th>\n",
       "      <th>414  Boucherville</th>\n",
       "      <th>529  Halifax</th>\n",
       "      <th>559  Quebec City</th>\n",
       "    </tr>\n",
       "  </thead>\n",
       "  <tbody>\n",
       "    <tr>\n",
       "      <td>1</td>\n",
       "      <td>2017 january - 2017 december</td>\n",
       "      <td>99</td>\n",
       "      <td>99</td>\n",
       "      <td>99</td>\n",
       "      <td>99</td>\n",
       "      <td>99</td>\n",
       "      <td>99</td>\n",
       "      <td>99</td>\n",
       "      <td>99</td>\n",
       "      <td>99</td>\n",
       "      <td>99</td>\n",
       "      <td>99</td>\n",
       "      <td>99</td>\n",
       "      <td>99</td>\n",
       "      <td>99</td>\n",
       "    </tr>\n",
       "    <tr>\n",
       "      <td>2</td>\n",
       "      <td>2018 january</td>\n",
       "      <td>99</td>\n",
       "      <td>99</td>\n",
       "      <td>99</td>\n",
       "      <td>99</td>\n",
       "      <td>99</td>\n",
       "      <td>99</td>\n",
       "      <td>99</td>\n",
       "      <td>99</td>\n",
       "      <td>99</td>\n",
       "      <td>99</td>\n",
       "      <td>99</td>\n",
       "      <td>99</td>\n",
       "      <td>99</td>\n",
       "      <td>99</td>\n",
       "    </tr>\n",
       "    <tr>\n",
       "      <td>3</td>\n",
       "      <td>2018 February -2018 August</td>\n",
       "      <td>99</td>\n",
       "      <td>29</td>\n",
       "      <td>99</td>\n",
       "      <td>99</td>\n",
       "      <td>99</td>\n",
       "      <td>99</td>\n",
       "      <td>99</td>\n",
       "      <td>99</td>\n",
       "      <td>99</td>\n",
       "      <td>99</td>\n",
       "      <td>99</td>\n",
       "      <td>99</td>\n",
       "      <td>99</td>\n",
       "      <td>99</td>\n",
       "    </tr>\n",
       "    <tr>\n",
       "      <td>4</td>\n",
       "      <td>2018 September - 2018 December</td>\n",
       "      <td>99</td>\n",
       "      <td>49</td>\n",
       "      <td>99</td>\n",
       "      <td>99</td>\n",
       "      <td>99</td>\n",
       "      <td>99</td>\n",
       "      <td>99</td>\n",
       "      <td>99</td>\n",
       "      <td>99</td>\n",
       "      <td>99</td>\n",
       "      <td>99</td>\n",
       "      <td>99</td>\n",
       "      <td>99</td>\n",
       "      <td>99</td>\n",
       "    </tr>\n",
       "    <tr>\n",
       "      <td>5</td>\n",
       "      <td>2019 January - 2019 June</td>\n",
       "      <td>99</td>\n",
       "      <td>49</td>\n",
       "      <td>99</td>\n",
       "      <td>99</td>\n",
       "      <td>99</td>\n",
       "      <td>99</td>\n",
       "      <td>99</td>\n",
       "      <td>99</td>\n",
       "      <td>99</td>\n",
       "      <td>99</td>\n",
       "      <td>99</td>\n",
       "      <td>99</td>\n",
       "      <td>99</td>\n",
       "      <td>99</td>\n",
       "    </tr>\n",
       "  </tbody>\n",
       "</table>\n",
       "</div>"
      ],
      "text/plain": [
       "0                     month_range 003  Richmond 004  Ottawa 039  Montreal  \\\n",
       "1    2017 january - 2017 december            99          99            99   \n",
       "2                    2018 january            99          99            99   \n",
       "3      2018 February -2018 August            99          29            99   \n",
       "4  2018 September - 2018 December            99          49            99   \n",
       "5        2019 January - 2019 June            99          49            99   \n",
       "\n",
       "0 040  Burlington 149  North York 216  Calgary 249  Winnipeg 256  Etobicoke  \\\n",
       "1              99              99           99            99             99   \n",
       "2              99              99           99            99             99   \n",
       "3              99              99           99            99             99   \n",
       "4              99              99           99            99             99   \n",
       "5              99              99           99            99             99   \n",
       "\n",
       "0 313  Coquitlam 349  Edmonton 372  Vaughan 414  Boucherville 529  Halifax  \\\n",
       "1             99            99           99                99           99   \n",
       "2             99            99           99                99           99   \n",
       "3             99            99           99                99           99   \n",
       "4             99            99           99                99           99   \n",
       "5             99            99           99                99           99   \n",
       "\n",
       "0 559  Quebec City  \n",
       "1               99  \n",
       "2               99  \n",
       "3               99  \n",
       "4               99  \n",
       "5               99  "
      ]
     },
     "execution_count": 11,
     "metadata": {},
     "output_type": "execute_result"
    }
   ],
   "source": [
    "df_new.rename(columns={'Store':'month_range'}, inplace=True)\n",
    "df_new.head()"
   ]
  },
  {
   "cell_type": "code",
   "execution_count": 12,
   "metadata": {},
   "outputs": [
    {
     "data": {
      "text/html": [
       "<div>\n",
       "<style scoped>\n",
       "    .dataframe tbody tr th:only-of-type {\n",
       "        vertical-align: middle;\n",
       "    }\n",
       "\n",
       "    .dataframe tbody tr th {\n",
       "        vertical-align: top;\n",
       "    }\n",
       "\n",
       "    .dataframe thead th {\n",
       "        text-align: right;\n",
       "    }\n",
       "</style>\n",
       "<table border=\"1\" class=\"dataframe\">\n",
       "  <thead>\n",
       "    <tr style=\"text-align: right;\">\n",
       "      <th></th>\n",
       "      <th>FY</th>\n",
       "      <th>Year</th>\n",
       "      <th>WeekNumber</th>\n",
       "      <th>Date</th>\n",
       "    </tr>\n",
       "  </thead>\n",
       "  <tbody>\n",
       "    <tr>\n",
       "      <td>0</td>\n",
       "      <td>FY17</td>\n",
       "      <td>2016</td>\n",
       "      <td>35</td>\n",
       "      <td>2016-08-28</td>\n",
       "    </tr>\n",
       "    <tr>\n",
       "      <td>1</td>\n",
       "      <td>FY17</td>\n",
       "      <td>2016</td>\n",
       "      <td>36</td>\n",
       "      <td>2016-09-04</td>\n",
       "    </tr>\n",
       "    <tr>\n",
       "      <td>2</td>\n",
       "      <td>FY17</td>\n",
       "      <td>2016</td>\n",
       "      <td>37</td>\n",
       "      <td>2016-09-11</td>\n",
       "    </tr>\n",
       "    <tr>\n",
       "      <td>3</td>\n",
       "      <td>FY17</td>\n",
       "      <td>2016</td>\n",
       "      <td>38</td>\n",
       "      <td>2016-09-18</td>\n",
       "    </tr>\n",
       "    <tr>\n",
       "      <td>4</td>\n",
       "      <td>FY17</td>\n",
       "      <td>2016</td>\n",
       "      <td>39</td>\n",
       "      <td>2016-09-24</td>\n",
       "    </tr>\n",
       "  </tbody>\n",
       "</table>\n",
       "</div>"
      ],
      "text/plain": [
       "     FY  Year  WeekNumber       Date\n",
       "0  FY17  2016          35 2016-08-28\n",
       "1  FY17  2016          36 2016-09-04\n",
       "2  FY17  2016          37 2016-09-11\n",
       "3  FY17  2016          38 2016-09-18\n",
       "4  FY17  2016          39 2016-09-24"
      ]
     },
     "execution_count": 12,
     "metadata": {},
     "output_type": "execute_result"
    }
   ],
   "source": [
    "week_df.head(5)"
   ]
  },
  {
   "cell_type": "markdown",
   "metadata": {},
   "source": [
    "Here,the date column from week_df is filtered from year 2017"
   ]
  },
  {
   "cell_type": "code",
   "execution_count": 13,
   "metadata": {},
   "outputs": [],
   "source": [
    "week_df = week_df[(week_df['Date']>='2017-01-01') & (week_df['Date']<='2019-08-25')]\n"
   ]
  },
  {
   "cell_type": "code",
   "execution_count": 14,
   "metadata": {},
   "outputs": [
    {
     "data": {
      "text/html": [
       "<div>\n",
       "<style scoped>\n",
       "    .dataframe tbody tr th:only-of-type {\n",
       "        vertical-align: middle;\n",
       "    }\n",
       "\n",
       "    .dataframe tbody tr th {\n",
       "        vertical-align: top;\n",
       "    }\n",
       "\n",
       "    .dataframe thead th {\n",
       "        text-align: right;\n",
       "    }\n",
       "</style>\n",
       "<table border=\"1\" class=\"dataframe\">\n",
       "  <thead>\n",
       "    <tr style=\"text-align: right;\">\n",
       "      <th></th>\n",
       "      <th>FY</th>\n",
       "      <th>Year</th>\n",
       "      <th>WeekNumber</th>\n",
       "      <th>Date</th>\n",
       "    </tr>\n",
       "  </thead>\n",
       "  <tbody>\n",
       "    <tr>\n",
       "      <td>18</td>\n",
       "      <td>FY17</td>\n",
       "      <td>2017</td>\n",
       "      <td>1</td>\n",
       "      <td>2017-01-01</td>\n",
       "    </tr>\n",
       "    <tr>\n",
       "      <td>19</td>\n",
       "      <td>FY17</td>\n",
       "      <td>2017</td>\n",
       "      <td>2</td>\n",
       "      <td>2017-01-08</td>\n",
       "    </tr>\n",
       "    <tr>\n",
       "      <td>20</td>\n",
       "      <td>FY17</td>\n",
       "      <td>2017</td>\n",
       "      <td>3</td>\n",
       "      <td>2017-01-15</td>\n",
       "    </tr>\n",
       "    <tr>\n",
       "      <td>21</td>\n",
       "      <td>FY17</td>\n",
       "      <td>2017</td>\n",
       "      <td>4</td>\n",
       "      <td>2017-01-22</td>\n",
       "    </tr>\n",
       "    <tr>\n",
       "      <td>22</td>\n",
       "      <td>FY17</td>\n",
       "      <td>2017</td>\n",
       "      <td>5</td>\n",
       "      <td>2017-01-29</td>\n",
       "    </tr>\n",
       "  </tbody>\n",
       "</table>\n",
       "</div>"
      ],
      "text/plain": [
       "      FY  Year  WeekNumber       Date\n",
       "18  FY17  2017           1 2017-01-01\n",
       "19  FY17  2017           2 2017-01-08\n",
       "20  FY17  2017           3 2017-01-15\n",
       "21  FY17  2017           4 2017-01-22\n",
       "22  FY17  2017           5 2017-01-29"
      ]
     },
     "execution_count": 14,
     "metadata": {},
     "output_type": "execute_result"
    }
   ],
   "source": [
    "week_df.head()"
   ]
  },
  {
   "cell_type": "markdown",
   "metadata": {},
   "source": [
    "The following function is defined to assign different month ranges to date column of week_df "
   ]
  },
  {
   "cell_type": "markdown",
   "metadata": {},
   "source": [
    "# Code"
   ]
  },
  {
   "cell_type": "code",
   "execution_count": 15,
   "metadata": {},
   "outputs": [],
   "source": [
    "def date_map(day):\n",
    "    return datetime.datetime.strptime(day, \"%Y-%m-%d\")\n",
    "\n",
    "\n",
    "def f(x):\n",
    "    if (x >= date_map(\"2017-01-01\")) & (x <= date_map(\"2017-12-31\")):\n",
    "         return \"2017 january - 2017 december\"\n",
    "    elif(x >= date_map(\"2018-01-07\")) & (x <= date_map(\"2018-01-28\")):\n",
    "         return \"2018 january\"\n",
    "    elif(x >= date_map(\"2018-02-04\")) & (x <= date_map(\"2018-08-26\")):\n",
    "         return \"2018 February -2018 August\"\n",
    "    elif(x >= date_map(\"2018-09-02\")) & (x <= date_map(\"2018-12-30\")):        \n",
    "         return \"2018 September - 2018 December\"\n",
    "    elif(x >= date_map(\"2019-01-06\")) & (x <= date_map(\"2019-06-23\")):        \n",
    "         return \"2019 January - 2019 June\"\n",
    "    elif(x >= date_map(\"2019-06-23\")) & (x <= date_map(\"2019-10-27\")):        \n",
    "         return \"2019 July - 2019 October\"\n",
    "    elif(x >= date_map(\"2019-10-27\")) & (x <= date_map(\"2019-12-29\")):        \n",
    "         return \"2019 October - 2019 December\""
   ]
  },
  {
   "cell_type": "code",
   "execution_count": 16,
   "metadata": {},
   "outputs": [],
   "source": [
    "week_df['month_range'] = week_df['Date'].apply(f)"
   ]
  },
  {
   "cell_type": "markdown",
   "metadata": {},
   "source": [
    "# Test"
   ]
  },
  {
   "cell_type": "code",
   "execution_count": 17,
   "metadata": {},
   "outputs": [
    {
     "data": {
      "text/html": [
       "<div>\n",
       "<style scoped>\n",
       "    .dataframe tbody tr th:only-of-type {\n",
       "        vertical-align: middle;\n",
       "    }\n",
       "\n",
       "    .dataframe tbody tr th {\n",
       "        vertical-align: top;\n",
       "    }\n",
       "\n",
       "    .dataframe thead th {\n",
       "        text-align: right;\n",
       "    }\n",
       "</style>\n",
       "<table border=\"1\" class=\"dataframe\">\n",
       "  <thead>\n",
       "    <tr style=\"text-align: right;\">\n",
       "      <th></th>\n",
       "      <th>FY</th>\n",
       "      <th>Year</th>\n",
       "      <th>WeekNumber</th>\n",
       "      <th>Date</th>\n",
       "      <th>month_range</th>\n",
       "    </tr>\n",
       "  </thead>\n",
       "  <tbody>\n",
       "    <tr>\n",
       "      <td>18</td>\n",
       "      <td>FY17</td>\n",
       "      <td>2017</td>\n",
       "      <td>1</td>\n",
       "      <td>2017-01-01</td>\n",
       "      <td>2017 january - 2017 december</td>\n",
       "    </tr>\n",
       "    <tr>\n",
       "      <td>19</td>\n",
       "      <td>FY17</td>\n",
       "      <td>2017</td>\n",
       "      <td>2</td>\n",
       "      <td>2017-01-08</td>\n",
       "      <td>2017 january - 2017 december</td>\n",
       "    </tr>\n",
       "    <tr>\n",
       "      <td>20</td>\n",
       "      <td>FY17</td>\n",
       "      <td>2017</td>\n",
       "      <td>3</td>\n",
       "      <td>2017-01-15</td>\n",
       "      <td>2017 january - 2017 december</td>\n",
       "    </tr>\n",
       "    <tr>\n",
       "      <td>21</td>\n",
       "      <td>FY17</td>\n",
       "      <td>2017</td>\n",
       "      <td>4</td>\n",
       "      <td>2017-01-22</td>\n",
       "      <td>2017 january - 2017 december</td>\n",
       "    </tr>\n",
       "    <tr>\n",
       "      <td>22</td>\n",
       "      <td>FY17</td>\n",
       "      <td>2017</td>\n",
       "      <td>5</td>\n",
       "      <td>2017-01-29</td>\n",
       "      <td>2017 january - 2017 december</td>\n",
       "    </tr>\n",
       "  </tbody>\n",
       "</table>\n",
       "</div>"
      ],
      "text/plain": [
       "      FY  Year  WeekNumber       Date                   month_range\n",
       "18  FY17  2017           1 2017-01-01  2017 january - 2017 december\n",
       "19  FY17  2017           2 2017-01-08  2017 january - 2017 december\n",
       "20  FY17  2017           3 2017-01-15  2017 january - 2017 december\n",
       "21  FY17  2017           4 2017-01-22  2017 january - 2017 december\n",
       "22  FY17  2017           5 2017-01-29  2017 january - 2017 december"
      ]
     },
     "execution_count": 17,
     "metadata": {},
     "output_type": "execute_result"
    }
   ],
   "source": [
    "week_df.head(5)"
   ]
  },
  {
   "cell_type": "code",
   "execution_count": null,
   "metadata": {},
   "outputs": [],
   "source": []
  },
  {
   "cell_type": "code",
   "execution_count": 18,
   "metadata": {},
   "outputs": [
    {
     "data": {
      "text/plain": [
       "18    2017 january - 2017 december\n",
       "19    2017 january - 2017 december\n",
       "Name: month_range, dtype: object"
      ]
     },
     "execution_count": 18,
     "metadata": {},
     "output_type": "execute_result"
    }
   ],
   "source": [
    "week_df['month_range'][:2]"
   ]
  },
  {
   "cell_type": "markdown",
   "metadata": {},
   "source": [
    "The two dataframes are merged with left join applied on column 'month_range'"
   ]
  },
  {
   "cell_type": "markdown",
   "metadata": {},
   "source": [
    "# Code"
   ]
  },
  {
   "cell_type": "code",
   "execution_count": 19,
   "metadata": {},
   "outputs": [],
   "source": [
    "result_df=pd.merge(week_df, df_new, on='month_range', how='left')\n"
   ]
  },
  {
   "cell_type": "markdown",
   "metadata": {},
   "source": [
    "# Test"
   ]
  },
  {
   "cell_type": "code",
   "execution_count": 20,
   "metadata": {},
   "outputs": [
    {
     "data": {
      "text/html": [
       "<div>\n",
       "<style scoped>\n",
       "    .dataframe tbody tr th:only-of-type {\n",
       "        vertical-align: middle;\n",
       "    }\n",
       "\n",
       "    .dataframe tbody tr th {\n",
       "        vertical-align: top;\n",
       "    }\n",
       "\n",
       "    .dataframe thead th {\n",
       "        text-align: right;\n",
       "    }\n",
       "</style>\n",
       "<table border=\"1\" class=\"dataframe\">\n",
       "  <thead>\n",
       "    <tr style=\"text-align: right;\">\n",
       "      <th></th>\n",
       "      <th>FY</th>\n",
       "      <th>Year</th>\n",
       "      <th>WeekNumber</th>\n",
       "      <th>Date</th>\n",
       "      <th>month_range</th>\n",
       "      <th>003  Richmond</th>\n",
       "      <th>004  Ottawa</th>\n",
       "      <th>039  Montreal</th>\n",
       "      <th>040  Burlington</th>\n",
       "      <th>149  North York</th>\n",
       "      <th>216  Calgary</th>\n",
       "      <th>249  Winnipeg</th>\n",
       "      <th>256  Etobicoke</th>\n",
       "      <th>313  Coquitlam</th>\n",
       "      <th>349  Edmonton</th>\n",
       "      <th>372  Vaughan</th>\n",
       "      <th>414  Boucherville</th>\n",
       "      <th>529  Halifax</th>\n",
       "      <th>559  Quebec City</th>\n",
       "    </tr>\n",
       "  </thead>\n",
       "  <tbody>\n",
       "    <tr>\n",
       "      <td>0</td>\n",
       "      <td>FY17</td>\n",
       "      <td>2017</td>\n",
       "      <td>1</td>\n",
       "      <td>2017-01-01</td>\n",
       "      <td>2017 january - 2017 december</td>\n",
       "      <td>99</td>\n",
       "      <td>99</td>\n",
       "      <td>99</td>\n",
       "      <td>99</td>\n",
       "      <td>99</td>\n",
       "      <td>99</td>\n",
       "      <td>99</td>\n",
       "      <td>99</td>\n",
       "      <td>99</td>\n",
       "      <td>99</td>\n",
       "      <td>99</td>\n",
       "      <td>99</td>\n",
       "      <td>99</td>\n",
       "      <td>99</td>\n",
       "    </tr>\n",
       "    <tr>\n",
       "      <td>1</td>\n",
       "      <td>FY17</td>\n",
       "      <td>2017</td>\n",
       "      <td>2</td>\n",
       "      <td>2017-01-08</td>\n",
       "      <td>2017 january - 2017 december</td>\n",
       "      <td>99</td>\n",
       "      <td>99</td>\n",
       "      <td>99</td>\n",
       "      <td>99</td>\n",
       "      <td>99</td>\n",
       "      <td>99</td>\n",
       "      <td>99</td>\n",
       "      <td>99</td>\n",
       "      <td>99</td>\n",
       "      <td>99</td>\n",
       "      <td>99</td>\n",
       "      <td>99</td>\n",
       "      <td>99</td>\n",
       "      <td>99</td>\n",
       "    </tr>\n",
       "    <tr>\n",
       "      <td>2</td>\n",
       "      <td>FY17</td>\n",
       "      <td>2017</td>\n",
       "      <td>3</td>\n",
       "      <td>2017-01-15</td>\n",
       "      <td>2017 january - 2017 december</td>\n",
       "      <td>99</td>\n",
       "      <td>99</td>\n",
       "      <td>99</td>\n",
       "      <td>99</td>\n",
       "      <td>99</td>\n",
       "      <td>99</td>\n",
       "      <td>99</td>\n",
       "      <td>99</td>\n",
       "      <td>99</td>\n",
       "      <td>99</td>\n",
       "      <td>99</td>\n",
       "      <td>99</td>\n",
       "      <td>99</td>\n",
       "      <td>99</td>\n",
       "    </tr>\n",
       "    <tr>\n",
       "      <td>3</td>\n",
       "      <td>FY17</td>\n",
       "      <td>2017</td>\n",
       "      <td>4</td>\n",
       "      <td>2017-01-22</td>\n",
       "      <td>2017 january - 2017 december</td>\n",
       "      <td>99</td>\n",
       "      <td>99</td>\n",
       "      <td>99</td>\n",
       "      <td>99</td>\n",
       "      <td>99</td>\n",
       "      <td>99</td>\n",
       "      <td>99</td>\n",
       "      <td>99</td>\n",
       "      <td>99</td>\n",
       "      <td>99</td>\n",
       "      <td>99</td>\n",
       "      <td>99</td>\n",
       "      <td>99</td>\n",
       "      <td>99</td>\n",
       "    </tr>\n",
       "    <tr>\n",
       "      <td>4</td>\n",
       "      <td>FY17</td>\n",
       "      <td>2017</td>\n",
       "      <td>5</td>\n",
       "      <td>2017-01-29</td>\n",
       "      <td>2017 january - 2017 december</td>\n",
       "      <td>99</td>\n",
       "      <td>99</td>\n",
       "      <td>99</td>\n",
       "      <td>99</td>\n",
       "      <td>99</td>\n",
       "      <td>99</td>\n",
       "      <td>99</td>\n",
       "      <td>99</td>\n",
       "      <td>99</td>\n",
       "      <td>99</td>\n",
       "      <td>99</td>\n",
       "      <td>99</td>\n",
       "      <td>99</td>\n",
       "      <td>99</td>\n",
       "    </tr>\n",
       "    <tr>\n",
       "      <td>5</td>\n",
       "      <td>FY17</td>\n",
       "      <td>2017</td>\n",
       "      <td>6</td>\n",
       "      <td>2017-02-05</td>\n",
       "      <td>2017 january - 2017 december</td>\n",
       "      <td>99</td>\n",
       "      <td>99</td>\n",
       "      <td>99</td>\n",
       "      <td>99</td>\n",
       "      <td>99</td>\n",
       "      <td>99</td>\n",
       "      <td>99</td>\n",
       "      <td>99</td>\n",
       "      <td>99</td>\n",
       "      <td>99</td>\n",
       "      <td>99</td>\n",
       "      <td>99</td>\n",
       "      <td>99</td>\n",
       "      <td>99</td>\n",
       "    </tr>\n",
       "    <tr>\n",
       "      <td>6</td>\n",
       "      <td>FY17</td>\n",
       "      <td>2017</td>\n",
       "      <td>7</td>\n",
       "      <td>2017-02-12</td>\n",
       "      <td>2017 january - 2017 december</td>\n",
       "      <td>99</td>\n",
       "      <td>99</td>\n",
       "      <td>99</td>\n",
       "      <td>99</td>\n",
       "      <td>99</td>\n",
       "      <td>99</td>\n",
       "      <td>99</td>\n",
       "      <td>99</td>\n",
       "      <td>99</td>\n",
       "      <td>99</td>\n",
       "      <td>99</td>\n",
       "      <td>99</td>\n",
       "      <td>99</td>\n",
       "      <td>99</td>\n",
       "    </tr>\n",
       "    <tr>\n",
       "      <td>7</td>\n",
       "      <td>FY17</td>\n",
       "      <td>2017</td>\n",
       "      <td>8</td>\n",
       "      <td>2017-02-19</td>\n",
       "      <td>2017 january - 2017 december</td>\n",
       "      <td>99</td>\n",
       "      <td>99</td>\n",
       "      <td>99</td>\n",
       "      <td>99</td>\n",
       "      <td>99</td>\n",
       "      <td>99</td>\n",
       "      <td>99</td>\n",
       "      <td>99</td>\n",
       "      <td>99</td>\n",
       "      <td>99</td>\n",
       "      <td>99</td>\n",
       "      <td>99</td>\n",
       "      <td>99</td>\n",
       "      <td>99</td>\n",
       "    </tr>\n",
       "    <tr>\n",
       "      <td>8</td>\n",
       "      <td>FY17</td>\n",
       "      <td>2017</td>\n",
       "      <td>9</td>\n",
       "      <td>2017-02-26</td>\n",
       "      <td>2017 january - 2017 december</td>\n",
       "      <td>99</td>\n",
       "      <td>99</td>\n",
       "      <td>99</td>\n",
       "      <td>99</td>\n",
       "      <td>99</td>\n",
       "      <td>99</td>\n",
       "      <td>99</td>\n",
       "      <td>99</td>\n",
       "      <td>99</td>\n",
       "      <td>99</td>\n",
       "      <td>99</td>\n",
       "      <td>99</td>\n",
       "      <td>99</td>\n",
       "      <td>99</td>\n",
       "    </tr>\n",
       "    <tr>\n",
       "      <td>9</td>\n",
       "      <td>FY17</td>\n",
       "      <td>2017</td>\n",
       "      <td>10</td>\n",
       "      <td>2017-03-05</td>\n",
       "      <td>2017 january - 2017 december</td>\n",
       "      <td>99</td>\n",
       "      <td>99</td>\n",
       "      <td>99</td>\n",
       "      <td>99</td>\n",
       "      <td>99</td>\n",
       "      <td>99</td>\n",
       "      <td>99</td>\n",
       "      <td>99</td>\n",
       "      <td>99</td>\n",
       "      <td>99</td>\n",
       "      <td>99</td>\n",
       "      <td>99</td>\n",
       "      <td>99</td>\n",
       "      <td>99</td>\n",
       "    </tr>\n",
       "  </tbody>\n",
       "</table>\n",
       "</div>"
      ],
      "text/plain": [
       "     FY  Year  WeekNumber       Date                   month_range  \\\n",
       "0  FY17  2017           1 2017-01-01  2017 january - 2017 december   \n",
       "1  FY17  2017           2 2017-01-08  2017 january - 2017 december   \n",
       "2  FY17  2017           3 2017-01-15  2017 january - 2017 december   \n",
       "3  FY17  2017           4 2017-01-22  2017 january - 2017 december   \n",
       "4  FY17  2017           5 2017-01-29  2017 january - 2017 december   \n",
       "5  FY17  2017           6 2017-02-05  2017 january - 2017 december   \n",
       "6  FY17  2017           7 2017-02-12  2017 january - 2017 december   \n",
       "7  FY17  2017           8 2017-02-19  2017 january - 2017 december   \n",
       "8  FY17  2017           9 2017-02-26  2017 january - 2017 december   \n",
       "9  FY17  2017          10 2017-03-05  2017 january - 2017 december   \n",
       "\n",
       "  003  Richmond 004  Ottawa 039  Montreal 040  Burlington 149  North York  \\\n",
       "0            99          99            99              99              99   \n",
       "1            99          99            99              99              99   \n",
       "2            99          99            99              99              99   \n",
       "3            99          99            99              99              99   \n",
       "4            99          99            99              99              99   \n",
       "5            99          99            99              99              99   \n",
       "6            99          99            99              99              99   \n",
       "7            99          99            99              99              99   \n",
       "8            99          99            99              99              99   \n",
       "9            99          99            99              99              99   \n",
       "\n",
       "  216  Calgary 249  Winnipeg 256  Etobicoke 313  Coquitlam 349  Edmonton  \\\n",
       "0           99            99             99             99            99   \n",
       "1           99            99             99             99            99   \n",
       "2           99            99             99             99            99   \n",
       "3           99            99             99             99            99   \n",
       "4           99            99             99             99            99   \n",
       "5           99            99             99             99            99   \n",
       "6           99            99             99             99            99   \n",
       "7           99            99             99             99            99   \n",
       "8           99            99             99             99            99   \n",
       "9           99            99             99             99            99   \n",
       "\n",
       "  372  Vaughan 414  Boucherville 529  Halifax 559  Quebec City  \n",
       "0           99                99           99               99  \n",
       "1           99                99           99               99  \n",
       "2           99                99           99               99  \n",
       "3           99                99           99               99  \n",
       "4           99                99           99               99  \n",
       "5           99                99           99               99  \n",
       "6           99                99           99               99  \n",
       "7           99                99           99               99  \n",
       "8           99                99           99               99  \n",
       "9           99                99           99               99  "
      ]
     },
     "execution_count": 20,
     "metadata": {},
     "output_type": "execute_result"
    }
   ],
   "source": [
    "result_df.head(10)"
   ]
  },
  {
   "cell_type": "markdown",
   "metadata": {},
   "source": [
    "Renaming the column name from Date to week start"
   ]
  },
  {
   "cell_type": "code",
   "execution_count": 21,
   "metadata": {},
   "outputs": [],
   "source": [
    "result_df.rename(columns={'Date':'Week Start'}, inplace=True)"
   ]
  },
  {
   "cell_type": "markdown",
   "metadata": {},
   "source": [
    "# Clean\n",
    "Droping the columns month_range as these are not required in result dataframe"
   ]
  },
  {
   "cell_type": "code",
   "execution_count": 22,
   "metadata": {},
   "outputs": [],
   "source": [
    "df1=result_df.drop('month_range', axis=1) "
   ]
  },
  {
   "cell_type": "markdown",
   "metadata": {},
   "source": [
    "Here the melt function is applied to melt the result_df data frame into 'Store' and 'Delivery Cost' columns"
   ]
  },
  {
   "cell_type": "markdown",
   "metadata": {},
   "source": [
    "# Code"
   ]
  },
  {
   "cell_type": "code",
   "execution_count": 23,
   "metadata": {},
   "outputs": [],
   "source": [
    "df_melt = df1.melt(id_vars = ['FY', 'Year','WeekNumber','Week Start'], var_name='Store', value_name='Delivery Cost') "
   ]
  },
  {
   "cell_type": "markdown",
   "metadata": {},
   "source": [
    "# Test"
   ]
  },
  {
   "cell_type": "code",
   "execution_count": 24,
   "metadata": {},
   "outputs": [
    {
     "data": {
      "text/html": [
       "<div>\n",
       "<style scoped>\n",
       "    .dataframe tbody tr th:only-of-type {\n",
       "        vertical-align: middle;\n",
       "    }\n",
       "\n",
       "    .dataframe tbody tr th {\n",
       "        vertical-align: top;\n",
       "    }\n",
       "\n",
       "    .dataframe thead th {\n",
       "        text-align: right;\n",
       "    }\n",
       "</style>\n",
       "<table border=\"1\" class=\"dataframe\">\n",
       "  <thead>\n",
       "    <tr style=\"text-align: right;\">\n",
       "      <th></th>\n",
       "      <th>FY</th>\n",
       "      <th>Year</th>\n",
       "      <th>WeekNumber</th>\n",
       "      <th>Week Start</th>\n",
       "      <th>Store</th>\n",
       "      <th>Delivery Cost</th>\n",
       "    </tr>\n",
       "  </thead>\n",
       "  <tbody>\n",
       "    <tr>\n",
       "      <td>0</td>\n",
       "      <td>FY17</td>\n",
       "      <td>2017</td>\n",
       "      <td>1</td>\n",
       "      <td>2017-01-01</td>\n",
       "      <td>003  Richmond</td>\n",
       "      <td>99</td>\n",
       "    </tr>\n",
       "    <tr>\n",
       "      <td>1</td>\n",
       "      <td>FY17</td>\n",
       "      <td>2017</td>\n",
       "      <td>2</td>\n",
       "      <td>2017-01-08</td>\n",
       "      <td>003  Richmond</td>\n",
       "      <td>99</td>\n",
       "    </tr>\n",
       "    <tr>\n",
       "      <td>2</td>\n",
       "      <td>FY17</td>\n",
       "      <td>2017</td>\n",
       "      <td>3</td>\n",
       "      <td>2017-01-15</td>\n",
       "      <td>003  Richmond</td>\n",
       "      <td>99</td>\n",
       "    </tr>\n",
       "    <tr>\n",
       "      <td>3</td>\n",
       "      <td>FY17</td>\n",
       "      <td>2017</td>\n",
       "      <td>4</td>\n",
       "      <td>2017-01-22</td>\n",
       "      <td>003  Richmond</td>\n",
       "      <td>99</td>\n",
       "    </tr>\n",
       "    <tr>\n",
       "      <td>4</td>\n",
       "      <td>FY17</td>\n",
       "      <td>2017</td>\n",
       "      <td>5</td>\n",
       "      <td>2017-01-29</td>\n",
       "      <td>003  Richmond</td>\n",
       "      <td>99</td>\n",
       "    </tr>\n",
       "  </tbody>\n",
       "</table>\n",
       "</div>"
      ],
      "text/plain": [
       "     FY  Year  WeekNumber Week Start          Store Delivery Cost\n",
       "0  FY17  2017           1 2017-01-01  003  Richmond            99\n",
       "1  FY17  2017           2 2017-01-08  003  Richmond            99\n",
       "2  FY17  2017           3 2017-01-15  003  Richmond            99\n",
       "3  FY17  2017           4 2017-01-22  003  Richmond            99\n",
       "4  FY17  2017           5 2017-01-29  003  Richmond            99"
      ]
     },
     "execution_count": 24,
     "metadata": {},
     "output_type": "execute_result"
    }
   ],
   "source": [
    "df_melt.head()"
   ]
  },
  {
   "cell_type": "markdown",
   "metadata": {},
   "source": [
    "The 'Store' Column is divided into 'Store Number' and 'Store'"
   ]
  },
  {
   "cell_type": "markdown",
   "metadata": {},
   "source": [
    "# Code"
   ]
  },
  {
   "cell_type": "code",
   "execution_count": 25,
   "metadata": {},
   "outputs": [],
   "source": [
    "new = df_melt[\"Store\"].str.split(\" \", n = 1, expand = True)\n",
    "df_melt[\"Store Number\"]= new[0]   \n",
    "# making separate last name column from new data frame \n",
    "df_melt[\"Store\"]= new[1]  \n",
    "df_melt['Week Start'] = pd.to_datetime(df_melt['Week Start']).dt.date\n",
    "sequence = ['FY','Year','WeekNumber','Week Start','Store Number','Store','Delivery Cost']\n",
    "result = df_melt.reindex(columns=sequence)"
   ]
  },
  {
   "cell_type": "markdown",
   "metadata": {},
   "source": [
    "# Test"
   ]
  },
  {
   "cell_type": "code",
   "execution_count": 26,
   "metadata": {},
   "outputs": [
    {
     "data": {
      "text/html": [
       "<div>\n",
       "<style scoped>\n",
       "    .dataframe tbody tr th:only-of-type {\n",
       "        vertical-align: middle;\n",
       "    }\n",
       "\n",
       "    .dataframe tbody tr th {\n",
       "        vertical-align: top;\n",
       "    }\n",
       "\n",
       "    .dataframe thead th {\n",
       "        text-align: right;\n",
       "    }\n",
       "</style>\n",
       "<table border=\"1\" class=\"dataframe\">\n",
       "  <thead>\n",
       "    <tr style=\"text-align: right;\">\n",
       "      <th></th>\n",
       "      <th>FY</th>\n",
       "      <th>Year</th>\n",
       "      <th>WeekNumber</th>\n",
       "      <th>Week Start</th>\n",
       "      <th>Store Number</th>\n",
       "      <th>Store</th>\n",
       "      <th>Delivery Cost</th>\n",
       "    </tr>\n",
       "  </thead>\n",
       "  <tbody>\n",
       "    <tr>\n",
       "      <td>0</td>\n",
       "      <td>FY17</td>\n",
       "      <td>2017</td>\n",
       "      <td>1</td>\n",
       "      <td>2017-01-01</td>\n",
       "      <td>003</td>\n",
       "      <td>Richmond</td>\n",
       "      <td>99</td>\n",
       "    </tr>\n",
       "    <tr>\n",
       "      <td>1</td>\n",
       "      <td>FY17</td>\n",
       "      <td>2017</td>\n",
       "      <td>2</td>\n",
       "      <td>2017-01-08</td>\n",
       "      <td>003</td>\n",
       "      <td>Richmond</td>\n",
       "      <td>99</td>\n",
       "    </tr>\n",
       "    <tr>\n",
       "      <td>2</td>\n",
       "      <td>FY17</td>\n",
       "      <td>2017</td>\n",
       "      <td>3</td>\n",
       "      <td>2017-01-15</td>\n",
       "      <td>003</td>\n",
       "      <td>Richmond</td>\n",
       "      <td>99</td>\n",
       "    </tr>\n",
       "    <tr>\n",
       "      <td>3</td>\n",
       "      <td>FY17</td>\n",
       "      <td>2017</td>\n",
       "      <td>4</td>\n",
       "      <td>2017-01-22</td>\n",
       "      <td>003</td>\n",
       "      <td>Richmond</td>\n",
       "      <td>99</td>\n",
       "    </tr>\n",
       "    <tr>\n",
       "      <td>4</td>\n",
       "      <td>FY17</td>\n",
       "      <td>2017</td>\n",
       "      <td>5</td>\n",
       "      <td>2017-01-29</td>\n",
       "      <td>003</td>\n",
       "      <td>Richmond</td>\n",
       "      <td>99</td>\n",
       "    </tr>\n",
       "  </tbody>\n",
       "</table>\n",
       "</div>"
      ],
      "text/plain": [
       "     FY  Year  WeekNumber  Week Start Store Number      Store Delivery Cost\n",
       "0  FY17  2017           1  2017-01-01          003   Richmond            99\n",
       "1  FY17  2017           2  2017-01-08          003   Richmond            99\n",
       "2  FY17  2017           3  2017-01-15          003   Richmond            99\n",
       "3  FY17  2017           4  2017-01-22          003   Richmond            99\n",
       "4  FY17  2017           5  2017-01-29          003   Richmond            99"
      ]
     },
     "execution_count": 26,
     "metadata": {},
     "output_type": "execute_result"
    }
   ],
   "source": [
    "result.head()"
   ]
  },
  {
   "cell_type": "markdown",
   "metadata": {},
   "source": [
    "The Output data is saved into Excel file"
   ]
  },
  {
   "cell_type": "code",
   "execution_count": 27,
   "metadata": {},
   "outputs": [],
   "source": [
    "result.to_excel(r'M65_Delivery_Cost_Development_Over_Time.xlsx',index=False)"
   ]
  }
 ],
 "metadata": {
  "kernelspec": {
   "display_name": "Python 3",
   "language": "python",
   "name": "python3"
  },
  "language_info": {
   "codemirror_mode": {
    "name": "ipython",
    "version": 3
   },
   "file_extension": ".py",
   "mimetype": "text/x-python",
   "name": "python",
   "nbconvert_exporter": "python",
   "pygments_lexer": "ipython3",
   "version": "3.7.4"
  }
 },
 "nbformat": 4,
 "nbformat_minor": 2
}
